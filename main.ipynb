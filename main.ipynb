{
 "cells": [
  {
   "cell_type": "code",
   "execution_count": 1,
   "metadata": {},
   "outputs": [],
   "source": [
    "import pandas as pd\n",
    "import numpy as np\n",
    "import statistics\n",
    "import matplotlib.pyplot as plt\n",
    "import seaborn as sns\n",
    "import math\n",
    "import scipy.stats as stats"
   ]
  },
  {
   "cell_type": "code",
   "execution_count": 2,
   "metadata": {},
   "outputs": [],
   "source": [
    "data = pd.read_excel(\"19PMI_Exam_Practice_3.xlsx\", names = [i for i in range(10)])"
   ]
  },
  {
   "cell_type": "code",
   "execution_count": 3,
   "metadata": {},
   "outputs": [
    {
     "data": {
      "text/html": [
       "<div>\n",
       "<style scoped>\n",
       "    .dataframe tbody tr th:only-of-type {\n",
       "        vertical-align: middle;\n",
       "    }\n",
       "\n",
       "    .dataframe tbody tr th {\n",
       "        vertical-align: top;\n",
       "    }\n",
       "\n",
       "    .dataframe thead th {\n",
       "        text-align: right;\n",
       "    }\n",
       "</style>\n",
       "<table border=\"1\" class=\"dataframe\">\n",
       "  <thead>\n",
       "    <tr style=\"text-align: right;\">\n",
       "      <th></th>\n",
       "      <th>0</th>\n",
       "      <th>1</th>\n",
       "      <th>2</th>\n",
       "      <th>3</th>\n",
       "      <th>4</th>\n",
       "      <th>5</th>\n",
       "      <th>6</th>\n",
       "      <th>7</th>\n",
       "      <th>8</th>\n",
       "      <th>9</th>\n",
       "    </tr>\n",
       "  </thead>\n",
       "  <tbody>\n",
       "    <tr>\n",
       "      <th>0</th>\n",
       "      <td>-0.003142</td>\n",
       "      <td>0.044034</td>\n",
       "      <td>0.037565</td>\n",
       "      <td>0.029727</td>\n",
       "      <td>-0.013309</td>\n",
       "      <td>-0.019359</td>\n",
       "      <td>0.036209</td>\n",
       "      <td>0.040115</td>\n",
       "      <td>0.028414</td>\n",
       "      <td>0.027665</td>\n",
       "    </tr>\n",
       "    <tr>\n",
       "      <th>1</th>\n",
       "      <td>-0.017835</td>\n",
       "      <td>0.038435</td>\n",
       "      <td>0.049211</td>\n",
       "      <td>0.021842</td>\n",
       "      <td>-0.012905</td>\n",
       "      <td>-0.046132</td>\n",
       "      <td>0.032791</td>\n",
       "      <td>0.017431</td>\n",
       "      <td>0.013862</td>\n",
       "      <td>0.021153</td>\n",
       "    </tr>\n",
       "    <tr>\n",
       "      <th>2</th>\n",
       "      <td>-0.009867</td>\n",
       "      <td>0.024735</td>\n",
       "      <td>0.040216</td>\n",
       "      <td>0.014414</td>\n",
       "      <td>-0.025436</td>\n",
       "      <td>-0.056014</td>\n",
       "      <td>0.029581</td>\n",
       "      <td>0.010781</td>\n",
       "      <td>0.020719</td>\n",
       "      <td>0.027160</td>\n",
       "    </tr>\n",
       "    <tr>\n",
       "      <th>3</th>\n",
       "      <td>-0.012583</td>\n",
       "      <td>0.035323</td>\n",
       "      <td>0.044871</td>\n",
       "      <td>0.031925</td>\n",
       "      <td>-0.011976</td>\n",
       "      <td>-0.035852</td>\n",
       "      <td>0.045439</td>\n",
       "      <td>0.010703</td>\n",
       "      <td>0.014373</td>\n",
       "      <td>0.024159</td>\n",
       "    </tr>\n",
       "    <tr>\n",
       "      <th>4</th>\n",
       "      <td>-0.018371</td>\n",
       "      <td>0.037405</td>\n",
       "      <td>0.048285</td>\n",
       "      <td>0.031023</td>\n",
       "      <td>-0.018734</td>\n",
       "      <td>-0.045892</td>\n",
       "      <td>0.042383</td>\n",
       "      <td>0.021904</td>\n",
       "      <td>0.028164</td>\n",
       "      <td>0.020527</td>\n",
       "    </tr>\n",
       "  </tbody>\n",
       "</table>\n",
       "</div>"
      ],
      "text/plain": [
       "          0         1         2         3         4         5         6  \\\n",
       "0 -0.003142  0.044034  0.037565  0.029727 -0.013309 -0.019359  0.036209   \n",
       "1 -0.017835  0.038435  0.049211  0.021842 -0.012905 -0.046132  0.032791   \n",
       "2 -0.009867  0.024735  0.040216  0.014414 -0.025436 -0.056014  0.029581   \n",
       "3 -0.012583  0.035323  0.044871  0.031925 -0.011976 -0.035852  0.045439   \n",
       "4 -0.018371  0.037405  0.048285  0.031023 -0.018734 -0.045892  0.042383   \n",
       "\n",
       "          7         8         9  \n",
       "0  0.040115  0.028414  0.027665  \n",
       "1  0.017431  0.013862  0.021153  \n",
       "2  0.010781  0.020719  0.027160  \n",
       "3  0.010703  0.014373  0.024159  \n",
       "4  0.021904  0.028164  0.020527  "
      ]
     },
     "execution_count": 3,
     "metadata": {},
     "output_type": "execute_result"
    }
   ],
   "source": [
    "data.head()"
   ]
  },
  {
   "cell_type": "code",
   "execution_count": 4,
   "metadata": {},
   "outputs": [],
   "source": [
    "A = data[3]\n",
    "B = data[5]"
   ]
  },
  {
   "cell_type": "code",
   "execution_count": 5,
   "metadata": {},
   "outputs": [],
   "source": [
    "E_A = A.mean()\n",
    "var_A = B.std()\n",
    "E_B = B.mean()\n",
    "var_B = B.std()"
   ]
  },
  {
   "cell_type": "code",
   "execution_count": 31,
   "metadata": {},
   "outputs": [
    {
     "data": {
      "image/png": "[encoded data removed]",
      "text/plain": [
       "<Figure size 864x432 with 1 Axes>"
      ]
     },
     "metadata": {
      "needs_background": "light"
     },
     "output_type": "display_data"
    }
   ],
   "source": [
    "plt.figure(figsize=(12, 6))\n",
    "plt.xlabel('σ')\n",
    "plt.ylabel('E')\n",
    "plt.grid(True)\n",
    "plt.title(\"Карта 2 активов\")\n",
    "plt.scatter(var_A, E_A)\n",
    "plt.scatter(var_B, E_B)\n",
    "\n",
    "plt.show()"
   ]
  },
  {
   "cell_type": "code",
   "execution_count": 25,
   "metadata": {},
   "outputs": [],
   "source": [
    "profitability_ = data.drop([0,1,2,4,6,7,8,9],axis=\"columns\")\n",
    "profitability_ = profitability_.transpose()\n",
    "\n",
    "def covarience_matrix(log_returns: pd.DataFrame) -> pd.DataFrame:\n",
    "    cov_matrix = log_returns.transpose().cov()\n",
    "    return cov_matrix\n",
    "\n",
    "\n",
    "cov_matrix = covarience_matrix(profitability_)\n",
    "\n",
    "from scipy.optimize import minimize\n",
    "\n",
    "def risk_porfolio(x, cov):\n",
    "  return np.sqrt(np.dot(np.dot(x, cov), x.T))\n",
    "    \n",
    "def risk_portfolio_max(x, cov):\n",
    "  return -np.sqrt(np.dot(np.dot(x, cov), x.T))\n",
    "\n",
    "def optimize_portfolio(mean_returns, cov_matrix, bounds, target_return=None, risk_func = risk_porfolio):\n",
    "    X = np.ones(cov_matrix.shape[0])\n",
    "    X = X / X.sum()\n",
    "    bounds = bounds * cov_matrix.shape[0]\n",
    "\n",
    "    constraints=[]\n",
    "    constraints.append({'type': 'eq', 'fun': lambda X: np.sum(X) - 1.0})\n",
    "    if target_return:\n",
    "        constraints.append({'type': 'eq', 'fun': lambda X: np.dot(X, mean_returns) - target_return})\n",
    "        \n",
    "    out = minimize(risk_func, X, args=(cov_matrix), method='SLSQP', constraints=constraints, bounds=bounds).x\n",
    "    return out"
   ]
  },
  {
   "cell_type": "code",
   "execution_count": 26,
   "metadata": {},
   "outputs": [
    {
     "data": {
      "text/html": [
       "<div>\n",
       "<style scoped>\n",
       "    .dataframe tbody tr th:only-of-type {\n",
       "        vertical-align: middle;\n",
       "    }\n",
       "\n",
       "    .dataframe tbody tr th {\n",
       "        vertical-align: top;\n",
       "    }\n",
       "\n",
       "    .dataframe thead th {\n",
       "        text-align: right;\n",
       "    }\n",
       "</style>\n",
       "<table border=\"1\" class=\"dataframe\">\n",
       "  <thead>\n",
       "    <tr style=\"text-align: right;\">\n",
       "      <th></th>\n",
       "      <th>3</th>\n",
       "      <th>5</th>\n",
       "    </tr>\n",
       "  </thead>\n",
       "  <tbody>\n",
       "    <tr>\n",
       "      <th>3</th>\n",
       "      <td>0.000094</td>\n",
       "      <td>-0.000017</td>\n",
       "    </tr>\n",
       "    <tr>\n",
       "      <th>5</th>\n",
       "      <td>-0.000017</td>\n",
       "      <td>0.000075</td>\n",
       "    </tr>\n",
       "  </tbody>\n",
       "</table>\n",
       "</div>"
      ],
      "text/plain": [
       "          3         5\n",
       "3  0.000094 -0.000017\n",
       "5 -0.000017  0.000075"
      ]
     },
     "execution_count": 26,
     "metadata": {},
     "output_type": "execute_result"
    }
   ],
   "source": [
    "cov_matrix"
   ]
  },
  {
   "cell_type": "code",
   "execution_count": 32,
   "metadata": {},
   "outputs": [],
   "source": [
    "E = [E_A, E_B]\n",
    "vars = [var_A, var_B]\n",
    "\n",
    "bounds = ((0, 1),) \n",
    "x_min_risk = optimize_portfolio(E, cov_matrix, bounds)\n",
    "min_risk = risk_porfolio(x_min_risk, cov_matrix)\n",
    "E_mr = np.dot(x_min_risk, E) # доходноость портфеля с минимальным риском(min risk)\n",
    "\n",
    "means_ = np.linspace(E_mr, 0.02, 50)\n",
    "p_with_short = []\n",
    "for m in means_:\n",
    "  x = optimize_portfolio(E, cov_matrix, bounds, m)\n",
    "  risk = risk_porfolio(x, cov_matrix)\n",
    "  mean = np.dot(x, E)\n",
    "  p_with_short.append((risk, m))\n",
    "  \n",
    "front_risk, front_mean = [p[0] for p in p_with_short], [p[1] for p in p_with_short]"
   ]
  },
  {
   "cell_type": "code",
   "execution_count": 33,
   "metadata": {},
   "outputs": [
    {
     "name": "stdout",
     "output_type": "stream",
     "text": [
      "Портфель c минимальным риском:\n",
      "E - -0.013870061250545284\n",
      "σ - 0.005777264491030849\n"
     ]
    }
   ],
   "source": [
    "print(\"Портфель c минимальным риском:\\n\"+\n",
    "      f\"E - {E_mr}\\n\"+\n",
    "      f\"σ - {min_risk}\")"
   ]
  },
  {
   "cell_type": "code",
   "execution_count": 35,
   "metadata": {},
   "outputs": [
    {
     "data": {
      "image/png": "[encoded data removed]",
      "text/plain": [
       "<Figure size 864x432 with 1 Axes>"
      ]
     },
     "metadata": {
      "needs_background": "light"
     },
     "output_type": "display_data"
    }
   ],
   "source": [
    "plt.figure(figsize=(12, 6))\n",
    "plt.xlabel('σ')\n",
    "plt.ylabel('E')\n",
    "plt.grid(True)\n",
    "plt.title(\"Карта выбранных активов и эффективный фронт\")\n",
    "\n",
    "plt.scatter(front_risk, front_mean, label=\"Эффективный фронт c короткими продажами\")\n",
    "plt.scatter(vars, E, color=\"blue\")\n",
    "plt.scatter(min_risk, E_mr, c='orange', label=\"Портфель c минимальным риском\")\n",
    "\n",
    "plt.legend()\n",
    "plt.show()"
   ]
  },
  {
   "cell_type": "code",
   "execution_count": null,
   "metadata": {},
   "outputs": [],
   "source": []
  }
 ],
 "metadata": {
  "kernelspec": {
   "display_name": "Python 3",
   "language": "python",
   "name": "python3"
  },
  "language_info": {
   "codemirror_mode": {
    "name": "ipython",
    "version": 3
   },
   "file_extension": ".py",
   "mimetype": "text/x-python",
   "name": "python",
   "nbconvert_exporter": "python",
   "pygments_lexer": "ipython3",
   "version": "3.10.1"
  },
  "orig_nbformat": 4,
  "vscode": {
   "interpreter": {
    "hash": "0c06f3972981f437a776addee7a43d07100d9c9f8aa6cd091fbcb8d22a1d6ff6"
   }
  }
 },
 "nbformat": 4,
 "nbformat_minor": 2
}
